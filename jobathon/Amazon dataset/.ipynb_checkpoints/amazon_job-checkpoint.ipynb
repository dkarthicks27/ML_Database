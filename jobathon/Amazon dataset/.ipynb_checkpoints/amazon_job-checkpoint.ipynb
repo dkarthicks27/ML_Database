{
 "cells": [
  {
   "cell_type": "code",
   "execution_count": 4,
   "metadata": {},
   "outputs": [],
   "source": [
    "import pandas as pd"
   ]
  },
  {
   "cell_type": "code",
   "execution_count": 5,
   "metadata": {},
   "outputs": [
    {
     "name": "stdout",
     "output_type": "stream",
     "text": [
      "yes\n"
     ]
    }
   ],
   "source": [
    "print('yes')"
   ]
  },
  {
   "cell_type": "code",
   "execution_count": 7,
   "metadata": {},
   "outputs": [],
   "source": [
    "train = pd.read_csv('Train.csv')"
   ]
  },
  {
   "cell_type": "code",
   "execution_count": 9,
   "metadata": {},
   "outputs": [
    {
     "name": "stdout",
     "output_type": "stream",
     "text": [
      "   EmpID  EmpName LanguageOfCommunication  Age  Gender  \\\n",
      "0  11041     John                 English   35    Male   \n",
      "1  15079  William                 English   26    Male   \n",
      "2  18638    James                 English   36  Female   \n",
      "3   3941  Charles                 English   29  Female   \n",
      "4   5936   George                 English   25    Male   \n",
      "\n",
      "  JobProfileIDApplyingFor HighestDegree             DegreeBranch  \\\n",
      "0                 JR85289        B.Tech               Electrical   \n",
      "1                 JR87525        B.Tech  Artificial Intelligence   \n",
      "2                 JR87525           PhD         Computer Science   \n",
      "3                 JR87525           BCA   Information Technology   \n",
      "4                 JR70175   Dual M.Tech         Computer Science   \n",
      "\n",
      "  GraduatingInstitute  LatestDegreeCGPA  ...  CurrentCTC  ExpectedCTC  \\\n",
      "0              Tier 1                 7  ...          21           26   \n",
      "1              Tier 3                 7  ...          15           19   \n",
      "2              Tier 1                 6  ...          15           24   \n",
      "3              Tier 2                 5  ...          16           24   \n",
      "4              Tier 3                 8  ...          24           32   \n",
      "\n",
      "   MartialStatus  EmpScore CurrentDesignation  CurrentCompanyType  \\\n",
      "0        Married         5                SSE          Enterprise   \n",
      "1        Married         5                 BA            MidSized   \n",
      "2         Single         5                SDE            MidSized   \n",
      "3        Married         5                SDE             Startup   \n",
      "4        Married         5                SDE          Enterprise   \n",
      "\n",
      "  DepartmentInCompany TotalLeavesTaken BiasInfluentialFactor  FitmentPercent  \n",
      "0              Design               20      YearsOfExperince           95.40  \n",
      "1         Engineering                6                   NaN           67.09  \n",
      "2         Engineering               19                Gender           91.26  \n",
      "3             Product               16                Gender           72.29  \n",
      "4         Engineering               10          DegreeBranch           86.34  \n",
      "\n",
      "[5 rows x 22 columns]\n"
     ]
    }
   ],
   "source": [
    "print(train.head())"
   ]
  },
  {
   "cell_type": "code",
   "execution_count": null,
   "metadata": {},
   "outputs": [],
   "source": []
  },
  {
   "cell_type": "code",
   "execution_count": null,
   "metadata": {},
   "outputs": [],
   "source": []
  },
  {
   "cell_type": "code",
   "execution_count": null,
   "metadata": {},
   "outputs": [],
   "source": []
  }
 ],
 "metadata": {
  "kernelspec": {
   "display_name": "Python 3",
   "language": "python",
   "name": "python3"
  },
  "language_info": {
   "codemirror_mode": {
    "name": "ipython",
    "version": 3
   },
   "file_extension": ".py",
   "mimetype": "text/x-python",
   "name": "python",
   "nbconvert_exporter": "python",
   "pygments_lexer": "ipython3",
   "version": "3.7.4"
  }
 },
 "nbformat": 4,
 "nbformat_minor": 2
}
