{
 "cells": [
  {
   "cell_type": "code",
   "execution_count": null,
   "metadata": {},
   "outputs": [],
   "source": [
    "import pandas as pd\n",
    "import numpy as np\n",
    "import sklearn.cluster.KMeans\n",
    "import gensim.models.tfidfmodel as tf\n",
    "import nltk.corpus.reader.\n",
    "\n",
    "doc = \"The term data science science has appeared in various contexts over the past thirty years but did not become an established term until recently. In an early usage, it was used as a substitute for computer science by Peter Naur in 1960. Naur later introduced the term datalogy.[7] In 1974, Naur published Concise Survey of Computer Methods, which freely used the term data science in its survey of the contemporary data processing methods that are used in a wide range of applications.The modern definition of data science was first sketched during the second Japanese-French statistics symposium organized at the University of Montpellier II (France) in 1992[8]. The attendees acknowledged the emergence of a new discipline with a specific focus on data from various origins, dimensions, types and structures. They shaped the contour of this new science based on established concepts and principles of statistics and data analysis with the extensive use of the increasing power of computer tools.In 1996, members of the International Federation of Classification Societies (IFCS) met in Kobe for their biennial conference. Here, for the first time, the term data science is included in the title of the conference Data Science, classification, and related methods after the term was introduced in a roundtable discussion by Chikio Hayashi.[3]In November 1997, C.F. Jeff Wu gave the inaugural lecture entitled Statistics = Data Science for his appointment to the H. C. Carver Professorship at the University of Michigan.[11] In this lecture, he characterized statistical work as a trilogy of data collection, data modeling and analysis, and decision making. In his conclusion, he initiated the modern, non-computer science, usage of the term data science and advocated that statistics be renamed data science and statisticians data scientists.[10] Later, he presented his lecture entitled Statistics = Data Science? as the first of his 1998 P.C. Mahalanobis Memorial Lectures.[12] These lectures honor Prasanta Chandra Mahalanobis, an Indian scientist and statistician and founder of the Indian Statistical Institute.In 2001, William S. Cleveland introduced data science as an independent discipline, extending the field of statistics to incorporate advances in computing with data in his article Data Science: An Action Plan for Expanding the Technical Areas of the Field of Statistics, which was published in Volume 69, No. 1, of the April 2001 edition of the International Statistical Review / Revue Internationale de Statistique.[13] In his report, Cleveland establishes six technical areas which he believed to encompass the field of data science: multidisciplinary investigations, models and methods for data, computing with data, pedagogy, tool evaluation, and theory.\"\n"
   ]
  },
  {
   "cell_type": "code",
   "execution_count": null,
   "metadata": {},
   "outputs": [],
   "source": [
    "def filtering(text):\n",
    "    "
   ]
  }
 ],
 "metadata": {
  "kernelspec": {
   "display_name": "Python 3",
   "language": "python",
   "name": "python3"
  },
  "language_info": {
   "codemirror_mode": {
    "name": "ipython",
    "version": 3
   },
   "file_extension": ".py",
   "mimetype": "text/x-python",
   "name": "python",
   "nbconvert_exporter": "python",
   "pygments_lexer": "ipython3",
   "version": "3.7.4"
  }
 },
 "nbformat": 4,
 "nbformat_minor": 2
}
