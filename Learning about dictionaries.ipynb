{
 "cells": [
  {
   "cell_type": "code",
   "execution_count": null,
   "metadata": {},
   "outputs": [],
   "source": [
    "# learning on dictionaries\n",
    "# representing the dictionaries 2 ways - dict() or a = {}. Both are the same"
   ]
  },
  {
   "cell_type": "code",
   "execution_count": 34,
   "metadata": {},
   "outputs": [
    {
     "name": "stdout",
     "output_type": "stream",
     "text": [
      "ruby\n"
     ]
    }
   ],
   "source": [
    "some = {}\n",
    "some[\"peter\"] = \"ruby\";\n",
    "print(some[\"peter\"])\n"
   ]
  },
  {
   "cell_type": "code",
   "execution_count": 35,
   "metadata": {},
   "outputs": [],
   "source": [
    "#some = dict()\n",
    "#some[\"peter\"] = \"hello\"\n",
    "some[\"peter\"] = \"ravu\""
   ]
  },
  {
   "cell_type": "code",
   "execution_count": 36,
   "metadata": {},
   "outputs": [
    {
     "name": "stdout",
     "output_type": "stream",
     "text": [
      "ravu\n"
     ]
    }
   ],
   "source": [
    "print(some[\"peter\"])"
   ]
  },
  {
   "cell_type": "code",
   "execution_count": 37,
   "metadata": {},
   "outputs": [
    {
     "ename": "KeyError",
     "evalue": "'john'",
     "output_type": "error",
     "traceback": [
      "\u001b[0;31m---------------------------------------------------------------------------\u001b[0m",
      "\u001b[0;31mKeyError\u001b[0m                                  Traceback (most recent call last)",
      "\u001b[0;32m<ipython-input-37-091d4fdab5d4>\u001b[0m in \u001b[0;36m<module>\u001b[0;34m\u001b[0m\n\u001b[0;32m----> 1\u001b[0;31m \u001b[0mprint\u001b[0m\u001b[0;34m(\u001b[0m\u001b[0msome\u001b[0m\u001b[0;34m[\u001b[0m\u001b[0;34m\"john\"\u001b[0m\u001b[0;34m]\u001b[0m\u001b[0;34m)\u001b[0m\u001b[0;34m\u001b[0m\u001b[0;34m\u001b[0m\u001b[0m\n\u001b[0m\u001b[1;32m      2\u001b[0m \u001b[0;31m#this will give error as this doesnt exist\u001b[0m\u001b[0;34m\u001b[0m\u001b[0;34m\u001b[0m\u001b[0;34m\u001b[0m\u001b[0m\n",
      "\u001b[0;31mKeyError\u001b[0m: 'john'"
     ]
    }
   ],
   "source": [
    "print(some[\"john\"])\n",
    "#this will give error as this doesnt exist"
   ]
  },
  {
   "cell_type": "code",
   "execution_count": 38,
   "metadata": {},
   "outputs": [],
   "source": [
    "some[\"john\"] = \"undefined\""
   ]
  },
  {
   "cell_type": "code",
   "execution_count": 39,
   "metadata": {},
   "outputs": [
    {
     "name": "stdout",
     "output_type": "stream",
     "text": [
      "undefined\n"
     ]
    }
   ],
   "source": [
    "print(some[\"john\"])"
   ]
  },
  {
   "cell_type": "code",
   "execution_count": 42,
   "metadata": {},
   "outputs": [
    {
     "name": "stdout",
     "output_type": "stream",
     "text": [
      "key:  peter\n",
      "value:  ravu\n",
      " \n",
      "key:  john\n",
      "value:  undefined\n",
      " \n"
     ]
    }
   ],
   "source": [
    "for key,value in some.items():\n",
    "    print(\"key: \", key)\n",
    "    print(\"value: \", value)\n",
    "    print(\" \")"
   ]
  },
  {
   "cell_type": "code",
   "execution_count": 73,
   "metadata": {},
   "outputs": [
    {
     "name": "stdout",
     "output_type": "stream",
     "text": [
      "{'loo', 'goo', 'foo', 'soo', 'koo'}\n",
      "['foo', 'soo', 'goo', 'loo', 'koo']\n"
     ]
    }
   ],
   "source": [
    "word_dict = dict()\n",
    "id_word = dict()\n",
    "\n",
    "tokens = ['foo', 'soo', 'goo', 'loo', 'koo']\n",
    "print(set(tokens))\n",
    "print(tokens)\n",
    "\n",
    "\n",
    "for i, token in enumerate(set(tokens)):\n",
    "    word_dict[token] = i\n",
    "    id_word[i] = token\n"
   ]
  },
  {
   "cell_type": "code",
   "execution_count": 67,
   "metadata": {},
   "outputs": [
    {
     "data": {
      "text/plain": [
       "{'loo': 0, 'goo': 1, 'foo': 2, 'soo': 3, 'koo': 4}"
      ]
     },
     "execution_count": 67,
     "metadata": {},
     "output_type": "execute_result"
    }
   ],
   "source": [
    "word_dict"
   ]
  },
  {
   "cell_type": "code",
   "execution_count": 68,
   "metadata": {},
   "outputs": [
    {
     "data": {
      "text/plain": [
       "{0: 'loo', 1: 'goo', 2: 'foo', 3: 'soo', 4: 'koo'}"
      ]
     },
     "execution_count": 68,
     "metadata": {},
     "output_type": "execute_result"
    }
   ],
   "source": [
    "id_word"
   ]
  },
  {
   "cell_type": "code",
   "execution_count": 69,
   "metadata": {},
   "outputs": [
    {
     "name": "stdout",
     "output_type": "stream",
     "text": [
      "{'loo': 0, 'goo': 1, 'foo': 2, 'soo': 3, 'koo': 4}\n",
      "{0: 'loo', 1: 'goo', 2: 'foo', 3: 'soo', 4: 'koo'}\n"
     ]
    }
   ],
   "source": [
    "print(word_dict)\n",
    "print(id_word)"
   ]
  },
  {
   "cell_type": "code",
   "execution_count": null,
   "metadata": {},
   "outputs": [],
   "source": []
  }
 ],
 "metadata": {
  "kernelspec": {
   "display_name": "Python 3",
   "language": "python",
   "name": "python3"
  },
  "language_info": {
   "codemirror_mode": {
    "name": "ipython",
    "version": 3
   },
   "file_extension": ".py",
   "mimetype": "text/x-python",
   "name": "python",
   "nbconvert_exporter": "python",
   "pygments_lexer": "ipython3",
   "version": "3.7.4"
  }
 },
 "nbformat": 4,
 "nbformat_minor": 2
}
